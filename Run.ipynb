{
  "cells": [
    {
      "cell_type": "markdown",
      "metadata": {
        "id": "26XqRPjmLuzU"
      },
      "source": [
        "**Just an experiment by tndsG**\n",
        "\n",
        "(Click the little ▶️ Button to run)"
      ]
    },
    {
      "cell_type": "code",
      "execution_count": null,
      "metadata": {
        "id": "tZWABDspLr_K"
      },
      "outputs": [],
      "source": [
        "!export setup_dir=$(pwd); curl -LSs https://raw.githubusercontent.com/tndsG/SSH-SSL/main/script1.sh | bash && bash \"${setup_dir}/SSH_SSL/script2.sh\""
      ]
    
    
  },
  "nbformat": 4,
  "nbformat_minor": 0
}
